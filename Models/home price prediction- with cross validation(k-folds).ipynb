{
 "cells": [
  {
   "cell_type": "code",
   "execution_count": 2,
   "metadata": {},
   "outputs": [],
   "source": [
    "# inport statements\n",
    "\n",
    "import numpy as np\n",
    "import pandas as pd\n",
    "import matplotlib.pyplot as plt\n",
    "import seaborn as sns\n",
    "from sklearn.ensemble import RandomForestRegressor as RF\n",
    "from sklearn.linear_model import LinearRegression as LR\n",
    "from sklearn.neighbors import KNeighborsRegressor as KNR\n",
    "from xgboost import XGBRegressor as XGBR # conda install -c conda-forge xgboost\n",
    "                                         #  pip install xgboost\n",
    "from sklearn.preprocessing import MinMaxScaler\n",
    "from sklearn.model_selection import cross_validate\n",
    "\n",
    "import warnings\n",
    "warnings.filterwarnings('ignore')\n",
    "\n",
    "sns.set()"
   ]
  },
  {
   "cell_type": "code",
   "execution_count": 3,
   "metadata": {},
   "outputs": [],
   "source": [
    "# uncomment lines below to generate labeled_data.csv and unlabeled_data.csv files\n",
    "\n",
    "# data = pd.read_csv('elasticsearch-seed.csv')\n",
    "\n",
    "# features_name = ['BathsTotal', 'BedsTotal', 'CDOM', 'LotSizeAreaSQFT', 'SqFtTotal', 'ElementarySchoolName']\n",
    "# target_name = 'ClosePrice'\n",
    "\n",
    "# labeled_data = data.loc[~data['ClosePrice'].isna()]\n",
    "# unlabeled_data = data.loc[data['ClosePrice'].isna()].drop(columns='ClosePrice')\n",
    "# labeled_data = labeled_data[features_name + [target_name]]\n",
    "# unlabeled_data = unlabeled_data[features_name]\n",
    "\n",
    "# labeled_data.to_csv('labeled_data.csv', index=False)\n",
    "# unlabeled_data.to_csv('unlabeled_data.csv', index=False)"
   ]
  },
  {
   "cell_type": "code",
   "execution_count": 4,
   "metadata": {},
   "outputs": [
    {
     "name": "stdout",
     "output_type": "stream",
     "text": [
      "labeled data shape (223, 7)\n",
      "unlabeled data shape (430, 6)\n"
     ]
    }
   ],
   "source": [
    "# read data\n",
    "labeled_data = pd.read_csv('labeled_data.csv')\n",
    "unlabeled_data = pd.read_csv('unlabeled_data.csv')\n",
    "\n",
    "print(f'labeled data shape {labeled_data.shape}')\n",
    "print(f'unlabeled data shape {unlabeled_data.shape}')"
   ]
  },
  {
   "cell_type": "code",
   "execution_count": 5,
   "metadata": {},
   "outputs": [],
   "source": [
    "# We want to group ElementarySchoolName values regarding the mean ClosePrice\n",
    "def get_school_group(price):\n",
    "    if np.isnan(price):\n",
    "        group = 5\n",
    "    else:\n",
    "        group = min(max((price // 100000) - 2, 0), 4)\n",
    "    return f'group_{group:.0f}'\n",
    "\n",
    "data = pd.concat((labeled_data, unlabeled_data), axis=0)\n",
    "price_per_school = data[['ElementarySchoolName', 'ClosePrice']].groupby(by='ElementarySchoolName').mean().reset_index()\n",
    "price_per_school['group'] = price_per_school['ClosePrice'].map(get_school_group)\n",
    "schools_groups_map = dict(price_per_school[['ElementarySchoolName', 'group']].to_numpy())"
   ]
  },
  {
   "cell_type": "code",
   "execution_count": 6,
   "metadata": {},
   "outputs": [],
   "source": [
    "labeled_data['ElementarySchoolName'] = labeled_data['ElementarySchoolName'].map(lambda x: schools_groups_map[x])\n",
    "unlabeled_data['ElementarySchoolName'] = unlabeled_data['ElementarySchoolName'].map(lambda x: schools_groups_map[x])"
   ]
  },
  {
   "cell_type": "code",
   "execution_count": 7,
   "metadata": {},
   "outputs": [
    {
     "data": {
      "text/html": [
       "<div>\n",
       "<style scoped>\n",
       "    .dataframe tbody tr th:only-of-type {\n",
       "        vertical-align: middle;\n",
       "    }\n",
       "\n",
       "    .dataframe tbody tr th {\n",
       "        vertical-align: top;\n",
       "    }\n",
       "\n",
       "    .dataframe thead th {\n",
       "        text-align: right;\n",
       "    }\n",
       "</style>\n",
       "<table border=\"1\" class=\"dataframe\">\n",
       "  <thead>\n",
       "    <tr style=\"text-align: right;\">\n",
       "      <th></th>\n",
       "      <th>BathsTotal</th>\n",
       "      <th>BedsTotal</th>\n",
       "      <th>CDOM</th>\n",
       "      <th>LotSizeAreaSQFT</th>\n",
       "      <th>SqFtTotal</th>\n",
       "      <th>ElementarySchoolName</th>\n",
       "      <th>ClosePrice</th>\n",
       "    </tr>\n",
       "  </thead>\n",
       "  <tbody>\n",
       "    <tr>\n",
       "      <th>0</th>\n",
       "      <td>3.0</td>\n",
       "      <td>4</td>\n",
       "      <td>52</td>\n",
       "      <td>7100.28</td>\n",
       "      <td>2484</td>\n",
       "      <td>group_2</td>\n",
       "      <td>485000.0</td>\n",
       "    </tr>\n",
       "    <tr>\n",
       "      <th>1</th>\n",
       "      <td>2.1</td>\n",
       "      <td>4</td>\n",
       "      <td>58</td>\n",
       "      <td>8712.00</td>\n",
       "      <td>2631</td>\n",
       "      <td>group_1</td>\n",
       "      <td>330000.0</td>\n",
       "    </tr>\n",
       "    <tr>\n",
       "      <th>2</th>\n",
       "      <td>1.1</td>\n",
       "      <td>1</td>\n",
       "      <td>38</td>\n",
       "      <td>1306.80</td>\n",
       "      <td>884</td>\n",
       "      <td>group_1</td>\n",
       "      <td>185000.0</td>\n",
       "    </tr>\n",
       "    <tr>\n",
       "      <th>3</th>\n",
       "      <td>2.0</td>\n",
       "      <td>3</td>\n",
       "      <td>11</td>\n",
       "      <td>6969.60</td>\n",
       "      <td>1451</td>\n",
       "      <td>group_0</td>\n",
       "      <td>210000.0</td>\n",
       "    </tr>\n",
       "    <tr>\n",
       "      <th>4</th>\n",
       "      <td>2.0</td>\n",
       "      <td>3</td>\n",
       "      <td>89</td>\n",
       "      <td>6098.40</td>\n",
       "      <td>1559</td>\n",
       "      <td>group_1</td>\n",
       "      <td>225000.0</td>\n",
       "    </tr>\n",
       "    <tr>\n",
       "      <th>...</th>\n",
       "      <td>...</td>\n",
       "      <td>...</td>\n",
       "      <td>...</td>\n",
       "      <td>...</td>\n",
       "      <td>...</td>\n",
       "      <td>...</td>\n",
       "      <td>...</td>\n",
       "    </tr>\n",
       "    <tr>\n",
       "      <th>218</th>\n",
       "      <td>4.1</td>\n",
       "      <td>4</td>\n",
       "      <td>39</td>\n",
       "      <td>12153.24</td>\n",
       "      <td>4758</td>\n",
       "      <td>group_2</td>\n",
       "      <td>950000.0</td>\n",
       "    </tr>\n",
       "    <tr>\n",
       "      <th>219</th>\n",
       "      <td>4.1</td>\n",
       "      <td>4</td>\n",
       "      <td>58</td>\n",
       "      <td>16465.68</td>\n",
       "      <td>4140</td>\n",
       "      <td>group_4</td>\n",
       "      <td>970000.0</td>\n",
       "    </tr>\n",
       "    <tr>\n",
       "      <th>220</th>\n",
       "      <td>4.2</td>\n",
       "      <td>5</td>\n",
       "      <td>166</td>\n",
       "      <td>11717.64</td>\n",
       "      <td>7891</td>\n",
       "      <td>group_2</td>\n",
       "      <td>1225000.0</td>\n",
       "    </tr>\n",
       "    <tr>\n",
       "      <th>221</th>\n",
       "      <td>4.1</td>\n",
       "      <td>5</td>\n",
       "      <td>16</td>\n",
       "      <td>23565.96</td>\n",
       "      <td>5805</td>\n",
       "      <td>group_4</td>\n",
       "      <td>1485000.0</td>\n",
       "    </tr>\n",
       "    <tr>\n",
       "      <th>222</th>\n",
       "      <td>5.2</td>\n",
       "      <td>5</td>\n",
       "      <td>141</td>\n",
       "      <td>24654.96</td>\n",
       "      <td>7291</td>\n",
       "      <td>group_4</td>\n",
       "      <td>1622500.0</td>\n",
       "    </tr>\n",
       "  </tbody>\n",
       "</table>\n",
       "<p>223 rows × 7 columns</p>\n",
       "</div>"
      ],
      "text/plain": [
       "     BathsTotal  BedsTotal  CDOM  LotSizeAreaSQFT  SqFtTotal  \\\n",
       "0           3.0          4    52          7100.28       2484   \n",
       "1           2.1          4    58          8712.00       2631   \n",
       "2           1.1          1    38          1306.80        884   \n",
       "3           2.0          3    11          6969.60       1451   \n",
       "4           2.0          3    89          6098.40       1559   \n",
       "..          ...        ...   ...              ...        ...   \n",
       "218         4.1          4    39         12153.24       4758   \n",
       "219         4.1          4    58         16465.68       4140   \n",
       "220         4.2          5   166         11717.64       7891   \n",
       "221         4.1          5    16         23565.96       5805   \n",
       "222         5.2          5   141         24654.96       7291   \n",
       "\n",
       "    ElementarySchoolName  ClosePrice  \n",
       "0                group_2    485000.0  \n",
       "1                group_1    330000.0  \n",
       "2                group_1    185000.0  \n",
       "3                group_0    210000.0  \n",
       "4                group_1    225000.0  \n",
       "..                   ...         ...  \n",
       "218              group_2    950000.0  \n",
       "219              group_4    970000.0  \n",
       "220              group_2   1225000.0  \n",
       "221              group_4   1485000.0  \n",
       "222              group_4   1622500.0  \n",
       "\n",
       "[223 rows x 7 columns]"
      ]
     },
     "execution_count": 7,
     "metadata": {},
     "output_type": "execute_result"
    }
   ],
   "source": [
    "labeled_data"
   ]
  },
  {
   "cell_type": "code",
   "execution_count": 8,
   "metadata": {},
   "outputs": [],
   "source": [
    "target_name = 'ClosePrice'\n",
    "\n",
    "# get each columns by type\n",
    "categorical_features = unlabeled_data.select_dtypes('object').columns\n",
    "numerical_features = unlabeled_data.select_dtypes(['int64', 'float64']).columns"
   ]
  },
  {
   "cell_type": "code",
   "execution_count": 9,
   "metadata": {},
   "outputs": [],
   "source": [
    "data = pd.concat((labeled_data[unlabeled_data.columns], unlabeled_data), axis=0)\n",
    "\n",
    "# dummy categorical features\n",
    "data = pd.get_dummies(data, drop_first=True)\n",
    "labeled_data = pd.concat((data.iloc[:labeled_data.shape[0],:], labeled_data[target_name]), axis=1)\n",
    "unlabeled_data = data.iloc[labeled_data.shape[0]:,:]\n",
    "\n",
    "# scale numerical features\n",
    "scaler = MinMaxScaler()\n",
    "scaler.fit(data[numerical_features])\n",
    "labeled_data[numerical_features] = scaler.transform(labeled_data[numerical_features])\n",
    "unlabeled_data[numerical_features] = scaler.transform(unlabeled_data[numerical_features])"
   ]
  },
  {
   "cell_type": "code",
   "execution_count": 10,
   "metadata": {},
   "outputs": [],
   "source": [
    "labels = labeled_data['ClosePrice'].to_numpy()\n",
    "features = labeled_data.drop(columns='ClosePrice').to_numpy()"
   ]
  },
  {
   "cell_type": "code",
   "execution_count": 11,
   "metadata": {},
   "outputs": [],
   "source": [
    "def plot_predictions_vs_actual(labels, predictions):\n",
    "    plt.scatter(labels, predictions)\n",
    "    plt.xlabel('true prices')\n",
    "    plt.ylabel('predicted prices')\n",
    "    plt.title('true prices vs predicted prices')"
   ]
  },
  {
   "cell_type": "markdown",
   "metadata": {},
   "source": [
    "# Random Forest"
   ]
  },
  {
   "cell_type": "code",
   "execution_count": 12,
   "metadata": {},
   "outputs": [
    {
     "data": {
      "text/plain": [
       "0.9770520221592477"
      ]
     },
     "execution_count": 12,
     "metadata": {},
     "output_type": "execute_result"
    }
   ],
   "source": [
    "# cross validation and model fitting\n",
    "rf = RF()\n",
    "rf.fit(features, labels)\n",
    "rf.score(features, labels)"
   ]
  },
  {
   "cell_type": "code",
   "execution_count": 13,
   "metadata": {},
   "outputs": [
    {
     "data": {
      "image/png": "[encoded data removed]",
      "text/plain": [
       "<Figure size 432x288 with 1 Axes>"
      ]
     },
     "metadata": {},
     "output_type": "display_data"
    }
   ],
   "source": [
    "plot_predictions_vs_actual(labels, rf.predict(features))\n",
    "plt.savefig('random_forest.png')"
   ]
  },
  {
   "cell_type": "markdown",
   "metadata": {},
   "source": [
    "# Linear regression"
   ]
  },
  {
   "cell_type": "code",
   "execution_count": 14,
   "metadata": {},
   "outputs": [
    {
     "data": {
      "text/plain": [
       "0.8170382695843789"
      ]
     },
     "execution_count": 14,
     "metadata": {},
     "output_type": "execute_result"
    }
   ],
   "source": [
    "# cross validation and model fitting\n",
    "lr = LR()\n",
    "lr.fit(features, labels)\n",
    "lr.score(features, labels)"
   ]
  },
  {
   "cell_type": "code",
   "execution_count": 15,
   "metadata": {},
   "outputs": [
    {
     "data": {
      "image/png": "[encoded data removed]",
      "text/plain": [
       "<Figure size 432x288 with 1 Axes>"
      ]
     },
     "metadata": {},
     "output_type": "display_data"
    }
   ],
   "source": [
    "plot_predictions_vs_actual(labels, lr.predict(features))\n",
    "plt.savefig('linear_regression.png')"
   ]
  },
  {
   "cell_type": "markdown",
   "metadata": {},
   "source": [
    "# KNeighbors Regressor"
   ]
  },
  {
   "cell_type": "code",
   "execution_count": 16,
   "metadata": {},
   "outputs": [],
   "source": [
    "#import required packages\n",
    "from sklearn import neighbors\n",
    "from sklearn.metrics import mean_squared_error \n",
    "from math import sqrt\n",
    "import matplotlib.pyplot as plt\n",
    "%matplotlib inline"
   ]
  },
  {
   "cell_type": "markdown",
   "metadata": {},
   "source": [
    "#### Create train and test split"
   ]
  },
  {
   "cell_type": "code",
   "execution_count": 17,
   "metadata": {},
   "outputs": [],
   "source": [
    "from sklearn.model_selection import train_test_split\n",
    "train , test = train_test_split(labeled_data, test_size = 0.3)\n",
    "\n",
    "x_train = train.drop('ClosePrice', axis=1)\n",
    "y_train = train['ClosePrice']\n",
    "\n",
    "x_test = test.drop('ClosePrice', axis = 1)\n",
    "y_test = test['ClosePrice']"
   ]
  },
  {
   "cell_type": "markdown",
   "metadata": {},
   "source": [
    "#### Preprocessing – Scaling the features"
   ]
  },
  {
   "cell_type": "code",
   "execution_count": 18,
   "metadata": {},
   "outputs": [],
   "source": [
    "from sklearn.preprocessing import MinMaxScaler\n",
    "scaler = MinMaxScaler(feature_range=(0, 1))\n",
    "\n",
    "x_train_scaled = scaler.fit_transform(x_train)\n",
    "x_train = pd.DataFrame(x_train_scaled)\n",
    "\n",
    "x_test_scaled = scaler.fit_transform(x_test)\n",
    "x_test = pd.DataFrame(x_test_scaled)"
   ]
  },
  {
   "cell_type": "markdown",
   "metadata": {},
   "source": [
    "#### Let us have a look at the error rate for different k values"
   ]
  },
  {
   "cell_type": "code",
   "execution_count": 19,
   "metadata": {},
   "outputs": [
    {
     "name": "stdout",
     "output_type": "stream",
     "text": [
      "RMSE value for k=  1 is: 169896.05883374342\n",
      "RMSE value for k=  2 is: 164924.66724514452\n",
      "RMSE value for k=  3 is: 161472.51078303426\n",
      "RMSE value for k=  4 is: 162221.16568504705\n",
      "RMSE value for k=  5 is: 160815.06863454598\n",
      "RMSE value for k=  6 is: 161230.48812467838\n",
      "RMSE value for k=  7 is: 163633.68966547787\n",
      "RMSE value for k=  8 is: 165498.30232135666\n",
      "RMSE value for k=  9 is: 166091.40758612668\n",
      "RMSE value for k=  10 is: 168811.2217050556\n",
      "RMSE value for k=  11 is: 168373.31577473693\n",
      "RMSE value for k=  12 is: 164047.16468195146\n",
      "RMSE value for k=  13 is: 166210.50514547597\n",
      "RMSE value for k=  14 is: 168595.81913614838\n",
      "RMSE value for k=  15 is: 171609.81023683093\n",
      "RMSE value for k=  16 is: 172838.50828343225\n",
      "RMSE value for k=  17 is: 174005.87307375754\n",
      "RMSE value for k=  18 is: 175169.7206306825\n",
      "RMSE value for k=  19 is: 176154.49810039302\n",
      "RMSE value for k=  20 is: 180100.10293175798\n"
     ]
    }
   ],
   "source": [
    "rmse_val = [] #to store rmse values for different k\n",
    "for K in range(20):\n",
    "    K = K+1\n",
    "    model = neighbors.KNeighborsRegressor(n_neighbors = K)\n",
    "\n",
    "    model.fit(x_train, y_train)  #fit the model\n",
    "    pred=model.predict(x_test) #make prediction on test set\n",
    "    error = sqrt(mean_squared_error(y_test,pred)) #calculate rmse\n",
    "    rmse_val.append(error) #store rmse values\n",
    "    print('RMSE value for k= ' , K , 'is:', error)"
   ]
  },
  {
   "cell_type": "markdown",
   "metadata": {},
   "source": [
    "#### Plotting the rmse values against k values"
   ]
  },
  {
   "cell_type": "code",
   "execution_count": 20,
   "metadata": {},
   "outputs": [
    {
     "data": {
      "text/plain": [
       "<matplotlib.axes._subplots.AxesSubplot at 0x7f91bcc6d550>"
      ]
     },
     "execution_count": 20,
     "metadata": {},
     "output_type": "execute_result"
    },
    {
     "data": {
      "image/png": "[encoded data removed]",
      "text/plain": [
       "<Figure size 432x288 with 1 Axes>"
      ]
     },
     "metadata": {
      "needs_background": "light"
     },
     "output_type": "display_data"
    }
   ],
   "source": [
    "\n",
    "curve = pd.DataFrame(rmse_val) #elbow curve \n",
    "curve.plot()\n",
    "\n",
    "# At k= 2, the RMSE is at it's lowest, and shoots up on further increasing the k value. \n",
    "#We can safely say that k=7 will give us the best result in this case."
   ]
  },
  {
   "cell_type": "code",
   "execution_count": 21,
   "metadata": {},
   "outputs": [
    {
     "data": {
      "text/plain": [
       "0.8371431740319235"
      ]
     },
     "execution_count": 21,
     "metadata": {},
     "output_type": "execute_result"
    }
   ],
   "source": [
    "# cross validation and model fitting\n",
    "knr = KNR()\n",
    "knr.fit(features, labels)\n",
    "knr.score(features, labels)"
   ]
  },
  {
   "cell_type": "code",
   "execution_count": 22,
   "metadata": {},
   "outputs": [
    {
     "data": {
      "image/png": "[encoded data removed]",
      "text/plain": [
       "<Figure size 432x288 with 1 Axes>"
      ]
     },
     "metadata": {
      "needs_background": "light"
     },
     "output_type": "display_data"
    }
   ],
   "source": [
    "plot_predictions_vs_actual(labels, knr.predict(features))\n",
    "plt.savefig('kneighbors.png')"
   ]
  },
  {
   "cell_type": "markdown",
   "metadata": {},
   "source": [
    "# Gradient Boosted Trees Regressor"
   ]
  },
  {
   "cell_type": "code",
   "execution_count": 23,
   "metadata": {},
   "outputs": [
    {
     "name": "stdout",
     "output_type": "stream",
     "text": [
      "[16:47:39] WARNING: src/objective/regression_obj.cu:152: reg:linear is now deprecated in favor of reg:squarederror.\n"
     ]
    },
    {
     "data": {
      "text/plain": [
       "0.9751418878657215"
      ]
     },
     "execution_count": 23,
     "metadata": {},
     "output_type": "execute_result"
    }
   ],
   "source": [
    "# cross validation and model fitting\n",
    "xgbr = XGBR()\n",
    "xgbr.fit(features, labels)\n",
    "xgbr.score(features, labels)"
   ]
  },
  {
   "cell_type": "code",
   "execution_count": 24,
   "metadata": {
    "scrolled": true
   },
   "outputs": [
    {
     "data": {
      "image/png": "[encoded data removed]",
      "text/plain": [
       "<Figure size 432x288 with 1 Axes>"
      ]
     },
     "metadata": {
      "needs_background": "light"
     },
     "output_type": "display_data"
    }
   ],
   "source": [
    "plot_predictions_vs_actual(labels, xgbr.predict(features))\n",
    "plt.savefig('xgb.png')"
   ]
  },
  {
   "cell_type": "code",
   "execution_count": 25,
   "metadata": {},
   "outputs": [
    {
     "data": {
      "image/png": "[encoded data removed]",
      "text/plain": [
       "<Figure size 432x288 with 1 Axes>"
      ]
     },
     "metadata": {
      "needs_background": "light"
     },
     "output_type": "display_data"
    }
   ],
   "source": [
    "import xgboost as xgb\n",
    "xgb.plot_importance(xgbr)\n",
    "plt.rcParams['figure.figsize'] = [5, 5]\n",
    "plt.show()"
   ]
  },
  {
   "cell_type": "code",
   "execution_count": 26,
   "metadata": {},
   "outputs": [],
   "source": [
    "# save predictions on unlabeled data\n",
    "\n",
    "unlabeled_data_predictions = unlabeled_data.copy()\n",
    "unlabeled_data_predictions['ClosePrice'] = xgbr.predict(unlabeled_data.to_numpy())\n",
    "unlabeled_data_predictions.to_csv('unlabeled_data_predictions.csv', index=False)"
   ]
  },
  {
   "cell_type": "code",
   "execution_count": 27,
   "metadata": {},
   "outputs": [],
   "source": [
    "# Numpy and pandas as usual\n",
    "import numpy as np\n",
    "import pandas as pd\n",
    "\n",
    "# Scikit-Learn for fitting models\n",
    "from sklearn.preprocessing import PolynomialFeatures\n",
    "from sklearn.linear_model import LinearRegression\n",
    "from sklearn.model_selection import cross_val_score\n",
    "from sklearn.metrics import mean_squared_error\n",
    "\n",
    "# For plotting in the notebook\n",
    "import matplotlib\n",
    "import matplotlib.pyplot as plt\n",
    "%matplotlib inline\n",
    "\n",
    "# Default parameters for plots\n",
    "matplotlib.rcParams['font.size'] = 12\n",
    "matplotlib.rcParams['figure.titlesize'] = 16\n",
    "matplotlib.rcParams['figure.figsize'] = [9, 7]"
   ]
  },
  {
   "cell_type": "code",
   "execution_count": 28,
   "metadata": {},
   "outputs": [],
   "source": [
    "from sklearn.preprocessing import MinMaxScaler\n",
    "scaler = MinMaxScaler(feature_range=(0, 1))\n",
    "\n",
    "x_train_scaled = scaler.fit_transform(x_train)\n",
    "x_train = pd.DataFrame(x_train_scaled)\n",
    "\n",
    "x_test_scaled = scaler.fit_transform(x_test)\n",
    "x_test = pd.DataFrame(x_test_scaled)"
   ]
  },
  {
   "cell_type": "code",
   "execution_count": null,
   "metadata": {},
   "outputs": [],
   "source": []
  },
  {
   "cell_type": "markdown",
   "metadata": {},
   "source": [
    "# Cross Validation with k-folds"
   ]
  },
  {
   "cell_type": "code",
   "execution_count": 29,
   "metadata": {},
   "outputs": [],
   "source": [
    " from sklearn.model_selection import train_test_split\n",
    "from sklearn.model_selection import KFold # import KFold"
   ]
  },
  {
   "cell_type": "code",
   "execution_count": 30,
   "metadata": {},
   "outputs": [],
   "source": [
    "X = features \n",
    "Y = labels\n",
    "\n"
   ]
  },
  {
   "cell_type": "code",
   "execution_count": null,
   "metadata": {},
   "outputs": [],
   "source": []
  },
  {
   "cell_type": "code",
   "execution_count": 32,
   "metadata": {},
   "outputs": [
    {
     "name": "stdout",
     "output_type": "stream",
     "text": [
      "0.06741573033707865 0.0 0.06741573033707865\n",
      "0.07865168539325842 0.0 0.07865168539325842\n",
      "0.05056179775280899 0.0 0.05056179775280899\n",
      "0.05027932960893855 0.0 0.05027932960893855\n",
      "0.05027932960893855 0.0 0.05027932960893855\n"
     ]
    }
   ],
   "source": [
    "from sklearn.model_selection import KFold\n",
    "from sklearn.linear_model import LinearRegression, LogisticRegression \n",
    "from sklearn.metrics import accuracy_score as accuracy, accuracy_score\n",
    "\n",
    "kf = KFold(n_splits=5,random_state=42,shuffle=True)\n",
    "\n",
    "\n",
    "\n",
    "# these are you training data points:\n",
    "# features and targets\n",
    "\n",
    "y = labels #features\n",
    "\n",
    "accuracies = []\n",
    "\n",
    "for train_index, test_index in kf.split(X):\n",
    "\n",
    "    data_train   = X[train_index]\n",
    "    target_train = y[train_index]\n",
    "\n",
    "    data_test    = X[test_index]\n",
    "    target_test  = y[test_index]\n",
    "\n",
    "    \n",
    "\n",
    "    clf = LogisticRegression()\n",
    "    clf.fit(data_train,target_train)\n",
    "\n",
    "    test_preds = clf.predict(data_test)\n",
    "    test_accuracy = accuracy_score(target_test,test_preds)\n",
    "\n",
    "    train_preds = clf.predict(data_train)\n",
    "    train_accuracy = accuracy_score(target_train, train_preds)\n",
    "\n",
    "    print(train_accuracy, test_accuracy, (train_accuracy - test_accuracy) )\n",
    "\n",
    "    #accuracies.append(accuracy)\n",
    "\n",
    "# this is the average accuracy over all folds\n",
    "average_accuracy = np.mean(accuracies)"
   ]
  },
  {
   "cell_type": "markdown",
   "metadata": {},
   "source": [
    "### XGBoost Cross-val"
   ]
  },
  {
   "cell_type": "code",
   "execution_count": 33,
   "metadata": {},
   "outputs": [
    {
     "name": "stdout",
     "output_type": "stream",
     "text": [
      "[16:51:22] WARNING: src/objective/regression_obj.cu:152: reg:linear is now deprecated in favor of reg:squarederror.\n"
     ]
    },
    {
     "data": {
      "text/plain": [
       "XGBRegressor(base_score=0.5, booster='gbtree', colsample_bylevel=1,\n",
       "             colsample_bynode=1, colsample_bytree=1, gamma=0,\n",
       "             importance_type='gain', learning_rate=0.1, max_delta_step=0,\n",
       "             max_depth=3, min_child_weight=1, missing=None, n_estimators=100,\n",
       "             n_jobs=1, nthread=None, objective='reg:linear', random_state=0,\n",
       "             reg_alpha=0, reg_lambda=1, scale_pos_weight=1, seed=None,\n",
       "             silent=None, subsample=1, verbosity=1)"
      ]
     },
     "execution_count": 33,
     "metadata": {},
     "output_type": "execute_result"
    }
   ],
   "source": [
    "\n",
    "# fit model no training data\n",
    "model = XGBR ()\n",
    "model.fit(data_train, target_train)"
   ]
  },
  {
   "cell_type": "code",
   "execution_count": 34,
   "metadata": {},
   "outputs": [],
   "source": [
    "\n",
    "# make predictions for test data\n",
    "target_test = model.predict(data_test)\n",
    "\n",
    "predictions = [round(value) for value in target_test]"
   ]
  },
  {
   "cell_type": "code",
   "execution_count": 39,
   "metadata": {},
   "outputs": [
    {
     "name": "stdout",
     "output_type": "stream",
     "text": [
      "R-Squared: 1.000000\n",
      "RMSE: 0.296164\n",
      "MAE: 0.509846\n"
     ]
    }
   ],
   "source": [
    "from sklearn.metrics import mean_absolute_error as mae\n",
    "from sklearn.metrics import r2_score\n",
    "\n",
    "r_square = np.sqrt(r2_score(target_test, predictions))\n",
    "print(\"R-Squared: %f\" % (r_square))\n",
    "\n",
    "rmse = np.sqrt(mean_squared_error(target_test, predictions))\n",
    "print(\"RMSE: %f\" % (rmse))\n",
    "\n",
    "mae = np.sqrt(mae(target_test, predictions))\n",
    "print(\"MAE: %f\" % (mae))"
   ]
  },
  {
   "cell_type": "markdown",
   "metadata": {},
   "source": [
    "### KN Regressor Cross Val"
   ]
  },
  {
   "cell_type": "code",
   "execution_count": 53,
   "metadata": {},
   "outputs": [
    {
     "data": {
      "text/plain": [
       "KNeighborsRegressor(algorithm='auto', leaf_size=30, metric='minkowski',\n",
       "                    metric_params=None, n_jobs=None, n_neighbors=5, p=2,\n",
       "                    weights='uniform')"
      ]
     },
     "execution_count": 53,
     "metadata": {},
     "output_type": "execute_result"
    }
   ],
   "source": [
    "modelKNR = KNR()\n",
    "modelKNR.fit(data_train, target_train)"
   ]
  },
  {
   "cell_type": "code",
   "execution_count": 54,
   "metadata": {},
   "outputs": [],
   "source": [
    "# make predictions for test data\n",
    "target_test = modelKNR.predict(data_test)\n",
    "\n",
    "predictions = [round(value) for value in target_test]"
   ]
  },
  {
   "cell_type": "code",
   "execution_count": 55,
   "metadata": {},
   "outputs": [
    {
     "name": "stdout",
     "output_type": "stream",
     "text": [
      "R-Squared: 1.000000\n",
      "RMSE: 0.000000\n",
      "MAE: 0.000000\n"
     ]
    }
   ],
   "source": [
    "from sklearn.metrics import mean_absolute_error as mae\n",
    "from sklearn.metrics import r2_score\n",
    "\n",
    "r_square = np.sqrt(r2_score(target_test, predictions))\n",
    "print(\"R-Squared: %f\" % (r_square))\n",
    "\n",
    "rmse = np.sqrt(mean_squared_error(target_test, predictions))\n",
    "print(\"RMSE: %f\" % (rmse))\n",
    "\n",
    "mae = np.sqrt(mae(target_test, predictions))\n",
    "print(\"MAE: %f\" % (mae))"
   ]
  },
  {
   "cell_type": "markdown",
   "metadata": {},
   "source": [
    "### Linear regression K-Folds"
   ]
  },
  {
   "cell_type": "code",
   "execution_count": 43,
   "metadata": {},
   "outputs": [
    {
     "data": {
      "text/plain": [
       "LinearRegression(copy_X=True, fit_intercept=True, n_jobs=None, normalize=False)"
      ]
     },
     "execution_count": 43,
     "metadata": {},
     "output_type": "execute_result"
    }
   ],
   "source": [
    "modelLR = LR()\n",
    "modelLR.fit(data_train, target_train)"
   ]
  },
  {
   "cell_type": "code",
   "execution_count": 44,
   "metadata": {},
   "outputs": [],
   "source": [
    "# make predictions for test data\n",
    "target_test = modelLR.predict(data_test)\n",
    "\n",
    "predictions = [round(value) for value in target_test]"
   ]
  },
  {
   "cell_type": "code",
   "execution_count": 45,
   "metadata": {},
   "outputs": [
    {
     "name": "stdout",
     "output_type": "stream",
     "text": [
      "R-Squared: 1.000000\n",
      "RMSE: 0.262281\n",
      "MAE: 0.484805\n"
     ]
    }
   ],
   "source": [
    "from sklearn.metrics import mean_absolute_error as mae\n",
    "from sklearn.metrics import r2_score\n",
    "\n",
    "r_square = np.sqrt(r2_score(target_test, predictions))\n",
    "print(\"R-Squared: %f\" % (r_square))\n",
    "\n",
    "rmse = np.sqrt(mean_squared_error(target_test, predictions))\n",
    "print(\"RMSE: %f\" % (rmse))\n",
    "\n",
    "mae = np.sqrt(mae(target_test, predictions))\n",
    "print(\"MAE: %f\" % (mae))"
   ]
  },
  {
   "cell_type": "markdown",
   "metadata": {},
   "source": [
    "### Random Forest K-Folds"
   ]
  },
  {
   "cell_type": "code",
   "execution_count": 46,
   "metadata": {},
   "outputs": [
    {
     "data": {
      "text/plain": [
       "RandomForestRegressor(bootstrap=True, ccp_alpha=0.0, criterion='mse',\n",
       "                      max_depth=None, max_features='auto', max_leaf_nodes=None,\n",
       "                      max_samples=None, min_impurity_decrease=0.0,\n",
       "                      min_impurity_split=None, min_samples_leaf=1,\n",
       "                      min_samples_split=2, min_weight_fraction_leaf=0.0,\n",
       "                      n_estimators=100, n_jobs=None, oob_score=False,\n",
       "                      random_state=None, verbose=0, warm_start=False)"
      ]
     },
     "execution_count": 46,
     "metadata": {},
     "output_type": "execute_result"
    }
   ],
   "source": [
    "modelRF = RF()\n",
    "modelRF.fit(data_train, target_train)"
   ]
  },
  {
   "cell_type": "code",
   "execution_count": 47,
   "metadata": {},
   "outputs": [],
   "source": [
    "# make predictions for test data\n",
    "target_test = modelRF.predict(data_test)\n",
    "\n",
    "predictions = [round(value) for value in target_test]"
   ]
  },
  {
   "cell_type": "code",
   "execution_count": 48,
   "metadata": {},
   "outputs": [
    {
     "name": "stdout",
     "output_type": "stream",
     "text": [
      "R-Squared: 1.000000\n",
      "RMSE: 0.239692\n",
      "MAE: 0.408155\n"
     ]
    }
   ],
   "source": [
    "from sklearn.metrics import mean_absolute_error as mae\n",
    "from sklearn.metrics import r2_score\n",
    "\n",
    "r_square = np.sqrt(r2_score(target_test, predictions))\n",
    "print(\"R-Squared: %f\" % (r_square))\n",
    "\n",
    "rmse = np.sqrt(mean_squared_error(target_test, predictions))\n",
    "print(\"RMSE: %f\" % (rmse))\n",
    "\n",
    "mae = np.sqrt(mae(target_test, predictions))\n",
    "print(\"MAE: %f\" % (mae))"
   ]
  },
  {
   "cell_type": "code",
   "execution_count": null,
   "metadata": {},
   "outputs": [],
   "source": []
  }
 ],
 "metadata": {
  "hide_input": false,
  "kernelspec": {
   "display_name": "Python 3",
   "language": "python",
   "name": "python3"
  },
  "language_info": {
   "codemirror_mode": {
    "name": "ipython",
    "version": 3
   },
   "file_extension": ".py",
   "mimetype": "text/x-python",
   "name": "python",
   "nbconvert_exporter": "python",
   "pygments_lexer": "ipython3",
   "version": "3.7.6"
  },
  "latex_envs": {
   "LaTeX_envs_menu_present": true,
   "autoclose": true,
   "autocomplete": true,
   "bibliofile": "biblio.bib",
   "cite_by": "apalike",
   "current_citInitial": 1,
   "eqLabelWithNumbers": true,
   "eqNumInitial": 1,
   "hotkeys": {
    "equation": "Ctrl-E",
    "itemize": "Ctrl-I"
   },
   "labels_anchors": false,
   "latex_user_defs": false,
   "report_style_numbering": false,
   "user_envs_cfg": false
  },
  "toc": {
   "base_numbering": 1,
   "nav_menu": {},
   "number_sections": true,
   "sideBar": true,
   "skip_h1_title": false,
   "title_cell": "Table of Contents",
   "title_sidebar": "Contents",
   "toc_cell": false,
   "toc_position": {},
   "toc_section_display": true,
   "toc_window_display": false
  },
  "varInspector": {
   "cols": {
    "lenName": 16,
    "lenType": 16,
    "lenVar": 40
   },
   "kernels_config": {
    "python": {
     "delete_cmd_postfix": "",
     "delete_cmd_prefix": "del ",
     "library": "var_list.py",
     "varRefreshCmd": "print(var_dic_list())"
    },
    "r": {
     "delete_cmd_postfix": ") ",
     "delete_cmd_prefix": "rm(",
     "library": "var_list.r",
     "varRefreshCmd": "cat(var_dic_list()) "
    }
   },
   "types_to_exclude": [
    "module",
    "function",
    "builtin_function_or_method",
    "instance",
    "_Feature"
   ],
   "window_display": false
  }
 },
 "nbformat": 4,
 "nbformat_minor": 5
}
