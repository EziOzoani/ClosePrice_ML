{
 "cells": [
  {
   "cell_type": "code",
   "execution_count": 1,
   "metadata": {},
   "outputs": [],
   "source": [
    "# inport statements\n",
    "\n",
    "import numpy as np\n",
    "import pandas as pd\n",
    "import matplotlib.pyplot as plt\n",
    "import seaborn as sns\n",
    "from sklearn.ensemble import RandomForestRegressor as RF\n",
    "from sklearn.linear_model import LinearRegression as LR\n",
    "from sklearn.neighbors import KNeighborsRegressor as KNR\n",
    "from xgboost import XGBRegressor as XGBR\n",
    "from sklearn.preprocessing import MinMaxScaler\n",
    "from sklearn.model_selection import cross_validate\n",
    "from sklearn.metrics import mean_squared_error as mse\n",
    "from sklearn.metrics import mean_absolute_error as mae\n",
    "\n",
    "import warnings\n",
    "warnings.filterwarnings('ignore')\n",
    "\n",
    "sns.set()"
   ]
  },
  {
   "cell_type": "code",
   "execution_count": 2,
   "metadata": {},
   "outputs": [],
   "source": [
    "# uncomment lines below to generate labeled_data.csv and unlabeled_data.csv files\n",
    "\n",
    "# data = pd.read_csv('elasticsearch-seed.csv')\n",
    "\n",
    "# features_name = ['BathsTotal', 'BedsTotal', 'CDOM', 'LotSizeAreaSQFT', 'SqFtTotal', 'ElementarySchoolName']\n",
    "# target_name = 'ClosePrice'\n",
    "\n",
    "# labeled_data = data.loc[~data['ClosePrice'].isna()]\n",
    "# unlabeled_data = data.loc[data['ClosePrice'].isna()].drop(columns='ClosePrice')\n",
    "# labeled_data = labeled_data[features_name + [target_name]]\n",
    "# unlabeled_data = unlabeled_data[features_name]\n",
    "\n",
    "# labeled_data.to_csv('labeled_data.csv', index=False)\n",
    "# unlabeled_data.to_csv('unlabeled_data.csv', index=False)"
   ]
  },
  {
   "cell_type": "code",
   "execution_count": 3,
   "metadata": {},
   "outputs": [
    {
     "name": "stdout",
     "output_type": "stream",
     "text": [
      "labeled data shape (223, 7)\n",
      "unlabeled data shape (430, 6)\n"
     ]
    }
   ],
   "source": [
    "# read data\n",
    "labeled_data = pd.read_csv('labeled_data.csv')\n",
    "unlabeled_data = pd.read_csv('unlabeled_data.csv')\n",
    "\n",
    "print(f'labeled data shape {labeled_data.shape}')\n",
    "print(f'unlabeled data shape {unlabeled_data.shape}')"
   ]
  },
  {
   "cell_type": "code",
   "execution_count": 4,
   "metadata": {},
   "outputs": [],
   "source": [
    "# We want to group ElementarySchoolName values regarding the mean ClosePrice\n",
    "def get_school_group(price):\n",
    "    if np.isnan(price):\n",
    "        group = 5\n",
    "    else:\n",
    "        group = min(max((price // 100000) - 2, 0), 4)\n",
    "    return f'group_{group:.0f}'\n",
    "\n",
    "data = pd.concat((labeled_data, unlabeled_data), axis=0)\n",
    "price_per_school = data[['ElementarySchoolName', 'ClosePrice']].groupby(by='ElementarySchoolName').mean().reset_index()\n",
    "price_per_school['group'] = price_per_school['ClosePrice'].map(get_school_group)\n",
    "schools_groups_map = dict(price_per_school[['ElementarySchoolName', 'group']].to_numpy())"
   ]
  },
  {
   "cell_type": "code",
   "execution_count": 5,
   "metadata": {},
   "outputs": [],
   "source": [
    "labeled_data['ElementarySchoolName'] = labeled_data['ElementarySchoolName'].map(lambda x: schools_groups_map[x])\n",
    "unlabeled_data['ElementarySchoolName'] = unlabeled_data['ElementarySchoolName'].map(lambda x: schools_groups_map[x])"
   ]
  },
  {
   "cell_type": "code",
   "execution_count": 6,
   "metadata": {},
   "outputs": [
    {
     "data": {
      "text/html": [
       "<div>\n",
       "<style scoped>\n",
       "    .dataframe tbody tr th:only-of-type {\n",
       "        vertical-align: middle;\n",
       "    }\n",
       "\n",
       "    .dataframe tbody tr th {\n",
       "        vertical-align: top;\n",
       "    }\n",
       "\n",
       "    .dataframe thead th {\n",
       "        text-align: right;\n",
       "    }\n",
       "</style>\n",
       "<table border=\"1\" class=\"dataframe\">\n",
       "  <thead>\n",
       "    <tr style=\"text-align: right;\">\n",
       "      <th></th>\n",
       "      <th>BathsTotal</th>\n",
       "      <th>BedsTotal</th>\n",
       "      <th>CDOM</th>\n",
       "      <th>LotSizeAreaSQFT</th>\n",
       "      <th>SqFtTotal</th>\n",
       "      <th>ElementarySchoolName</th>\n",
       "      <th>ClosePrice</th>\n",
       "    </tr>\n",
       "  </thead>\n",
       "  <tbody>\n",
       "    <tr>\n",
       "      <th>0</th>\n",
       "      <td>3.0</td>\n",
       "      <td>4</td>\n",
       "      <td>52</td>\n",
       "      <td>7100.28</td>\n",
       "      <td>2484</td>\n",
       "      <td>group_2</td>\n",
       "      <td>485000.0</td>\n",
       "    </tr>\n",
       "    <tr>\n",
       "      <th>1</th>\n",
       "      <td>2.1</td>\n",
       "      <td>4</td>\n",
       "      <td>58</td>\n",
       "      <td>8712.00</td>\n",
       "      <td>2631</td>\n",
       "      <td>group_1</td>\n",
       "      <td>330000.0</td>\n",
       "    </tr>\n",
       "    <tr>\n",
       "      <th>2</th>\n",
       "      <td>1.1</td>\n",
       "      <td>1</td>\n",
       "      <td>38</td>\n",
       "      <td>1306.80</td>\n",
       "      <td>884</td>\n",
       "      <td>group_1</td>\n",
       "      <td>185000.0</td>\n",
       "    </tr>\n",
       "    <tr>\n",
       "      <th>3</th>\n",
       "      <td>2.0</td>\n",
       "      <td>3</td>\n",
       "      <td>11</td>\n",
       "      <td>6969.60</td>\n",
       "      <td>1451</td>\n",
       "      <td>group_0</td>\n",
       "      <td>210000.0</td>\n",
       "    </tr>\n",
       "    <tr>\n",
       "      <th>4</th>\n",
       "      <td>2.0</td>\n",
       "      <td>3</td>\n",
       "      <td>89</td>\n",
       "      <td>6098.40</td>\n",
       "      <td>1559</td>\n",
       "      <td>group_1</td>\n",
       "      <td>225000.0</td>\n",
       "    </tr>\n",
       "    <tr>\n",
       "      <th>...</th>\n",
       "      <td>...</td>\n",
       "      <td>...</td>\n",
       "      <td>...</td>\n",
       "      <td>...</td>\n",
       "      <td>...</td>\n",
       "      <td>...</td>\n",
       "      <td>...</td>\n",
       "    </tr>\n",
       "    <tr>\n",
       "      <th>218</th>\n",
       "      <td>4.1</td>\n",
       "      <td>4</td>\n",
       "      <td>39</td>\n",
       "      <td>12153.24</td>\n",
       "      <td>4758</td>\n",
       "      <td>group_2</td>\n",
       "      <td>950000.0</td>\n",
       "    </tr>\n",
       "    <tr>\n",
       "      <th>219</th>\n",
       "      <td>4.1</td>\n",
       "      <td>4</td>\n",
       "      <td>58</td>\n",
       "      <td>16465.68</td>\n",
       "      <td>4140</td>\n",
       "      <td>group_4</td>\n",
       "      <td>970000.0</td>\n",
       "    </tr>\n",
       "    <tr>\n",
       "      <th>220</th>\n",
       "      <td>4.2</td>\n",
       "      <td>5</td>\n",
       "      <td>166</td>\n",
       "      <td>11717.64</td>\n",
       "      <td>7891</td>\n",
       "      <td>group_2</td>\n",
       "      <td>1225000.0</td>\n",
       "    </tr>\n",
       "    <tr>\n",
       "      <th>221</th>\n",
       "      <td>4.1</td>\n",
       "      <td>5</td>\n",
       "      <td>16</td>\n",
       "      <td>23565.96</td>\n",
       "      <td>5805</td>\n",
       "      <td>group_4</td>\n",
       "      <td>1485000.0</td>\n",
       "    </tr>\n",
       "    <tr>\n",
       "      <th>222</th>\n",
       "      <td>5.2</td>\n",
       "      <td>5</td>\n",
       "      <td>141</td>\n",
       "      <td>24654.96</td>\n",
       "      <td>7291</td>\n",
       "      <td>group_4</td>\n",
       "      <td>1622500.0</td>\n",
       "    </tr>\n",
       "  </tbody>\n",
       "</table>\n",
       "<p>223 rows × 7 columns</p>\n",
       "</div>"
      ],
      "text/plain": [
       "     BathsTotal  BedsTotal  CDOM  LotSizeAreaSQFT  SqFtTotal  \\\n",
       "0           3.0          4    52          7100.28       2484   \n",
       "1           2.1          4    58          8712.00       2631   \n",
       "2           1.1          1    38          1306.80        884   \n",
       "3           2.0          3    11          6969.60       1451   \n",
       "4           2.0          3    89          6098.40       1559   \n",
       "..          ...        ...   ...              ...        ...   \n",
       "218         4.1          4    39         12153.24       4758   \n",
       "219         4.1          4    58         16465.68       4140   \n",
       "220         4.2          5   166         11717.64       7891   \n",
       "221         4.1          5    16         23565.96       5805   \n",
       "222         5.2          5   141         24654.96       7291   \n",
       "\n",
       "    ElementarySchoolName  ClosePrice  \n",
       "0                group_2    485000.0  \n",
       "1                group_1    330000.0  \n",
       "2                group_1    185000.0  \n",
       "3                group_0    210000.0  \n",
       "4                group_1    225000.0  \n",
       "..                   ...         ...  \n",
       "218              group_2    950000.0  \n",
       "219              group_4    970000.0  \n",
       "220              group_2   1225000.0  \n",
       "221              group_4   1485000.0  \n",
       "222              group_4   1622500.0  \n",
       "\n",
       "[223 rows x 7 columns]"
      ]
     },
     "execution_count": 6,
     "metadata": {},
     "output_type": "execute_result"
    }
   ],
   "source": [
    "labeled_data"
   ]
  },
  {
   "cell_type": "code",
   "execution_count": 7,
   "metadata": {},
   "outputs": [],
   "source": [
    "target_name = 'ClosePrice'\n",
    "\n",
    "# get each columns by type\n",
    "categorical_features = unlabeled_data.select_dtypes('object').columns\n",
    "numerical_features = unlabeled_data.select_dtypes(['int64', 'float64']).columns"
   ]
  },
  {
   "cell_type": "code",
   "execution_count": 8,
   "metadata": {},
   "outputs": [],
   "source": [
    "data = pd.concat((labeled_data[unlabeled_data.columns], unlabeled_data), axis=0)\n",
    "\n",
    "# dummy categorical features\n",
    "data = pd.get_dummies(data, drop_first=True)\n",
    "labeled_data = pd.concat((data.iloc[:labeled_data.shape[0],:], labeled_data[target_name]), axis=1)\n",
    "unlabeled_data = data.iloc[labeled_data.shape[0]:,:]\n",
    "\n",
    "# scale numerical features\n",
    "scaler = MinMaxScaler()\n",
    "scaler.fit(data[numerical_features])\n",
    "labeled_data[numerical_features] = scaler.transform(labeled_data[numerical_features])\n",
    "unlabeled_data[numerical_features] = scaler.transform(unlabeled_data[numerical_features])"
   ]
  },
  {
   "cell_type": "code",
   "execution_count": 9,
   "metadata": {},
   "outputs": [],
   "source": [
    "labels = labeled_data['ClosePrice'].to_numpy()\n",
    "features = labeled_data.drop(columns='ClosePrice').to_numpy()"
   ]
  },
  {
   "cell_type": "code",
   "execution_count": 10,
   "metadata": {},
   "outputs": [],
   "source": [
    "def plot_predictions_vs_actual(labels, predictions):\n",
    "    plt.scatter(labels, predictions)\n",
    "    plt.xlabel('true prices')\n",
    "    plt.ylabel('predicted prices')\n",
    "    plt.title('true prices vs predicted prices')"
   ]
  },
  {
   "cell_type": "markdown",
   "metadata": {},
   "source": [
    "# Random Forest"
   ]
  },
  {
   "cell_type": "code",
   "execution_count": 21,
   "metadata": {},
   "outputs": [
    {
     "name": "stdout",
     "output_type": "stream",
     "text": [
      "train mean absolute error = 18510.885561672214\n",
      "test mean absolute error = 89917.48357676766\n"
     ]
    }
   ],
   "source": [
    "rf = RF()\n",
    "scores = cross_validate(rf, features, labels, return_train_score=True, scoring='neg_mean_absolute_error')\n",
    "\n",
    "print(f\"train mean absolute error = {-scores['train_score'].mean()}\")\n",
    "print(f\"test mean absolute error = {-scores['test_score'].mean()}\")"
   ]
  },
  {
   "cell_type": "code",
   "execution_count": 22,
   "metadata": {},
   "outputs": [
    {
     "name": "stdout",
     "output_type": "stream",
     "text": [
      "r² score = 0.9774548045226104\n",
      "rmse = 29570.519761345928\n",
      "mae = 18205.17116591928\n"
     ]
    }
   ],
   "source": [
    "# cross validation and model fitting\n",
    "\n",
    "rf.fit(features, labels)\n",
    "print(f'r² score = {rf.score(features, labels)}')\n",
    "print(f'rmse = {np.sqrt(mse(labels, rf.predict(features)))}')\n",
    "print(f'mae = {mae(labels, rf.predict(features))}')"
   ]
  },
  {
   "cell_type": "code",
   "execution_count": 23,
   "metadata": {},
   "outputs": [
    {
     "data": {
      "image/png": "[encoded data removed]",
      "text/plain": [
       "<Figure size 432x288 with 1 Axes>"
      ]
     },
     "metadata": {},
     "output_type": "display_data"
    }
   ],
   "source": [
    "plot_predictions_vs_actual(labels, rf.predict(features))\n",
    "plt.savefig('random_forest.png')"
   ]
  },
  {
   "cell_type": "markdown",
   "metadata": {},
   "source": [
    "# Linear regression"
   ]
  },
  {
   "cell_type": "code",
   "execution_count": 24,
   "metadata": {},
   "outputs": [
    {
     "name": "stdout",
     "output_type": "stream",
     "text": [
      "train mean absolute error = 56124.246565932015\n",
      "test mean absolute error = 91167.64709783251\n"
     ]
    }
   ],
   "source": [
    "lr = LR()\n",
    "scores = cross_validate(lr, features, labels, return_train_score=True, scoring='neg_mean_absolute_error')\n",
    "\n",
    "print(f\"train mean absolute error = {-scores['train_score'].mean()}\")\n",
    "print(f\"test mean absolute error = {-scores['test_score'].mean()}\")"
   ]
  },
  {
   "cell_type": "code",
   "execution_count": 25,
   "metadata": {},
   "outputs": [
    {
     "name": "stdout",
     "output_type": "stream",
     "text": [
      "r² score = 0.817038269584379\n",
      "rmse = 84238.78322894758\n",
      "mae = 60010.95947805772\n"
     ]
    }
   ],
   "source": [
    "# cross validation and model fitting\n",
    "\n",
    "lr.fit(features, labels)\n",
    "lr.score(features, labels)\n",
    "print(f'r² score = {lr.score(features, labels)}')\n",
    "print(f'rmse = {np.sqrt(mse(labels, lr.predict(features)))}')\n",
    "print(f'mae = {mae(labels, lr.predict(features))}')"
   ]
  },
  {
   "cell_type": "code",
   "execution_count": 26,
   "metadata": {},
   "outputs": [
    {
     "data": {
      "image/png": "[encoded data removed]",
      "text/plain": [
       "<Figure size 432x288 with 1 Axes>"
      ]
     },
     "metadata": {},
     "output_type": "display_data"
    }
   ],
   "source": [
    "plot_predictions_vs_actual(labels, lr.predict(features))\n",
    "plt.savefig('linear_regression.png')"
   ]
  },
  {
   "cell_type": "markdown",
   "metadata": {},
   "source": [
    "# KNeighbors Regressor"
   ]
  },
  {
   "cell_type": "code",
   "execution_count": 30,
   "metadata": {},
   "outputs": [
    {
     "name": "stdout",
     "output_type": "stream",
     "text": [
      "train mean absolute error = 47753.96312346996\n",
      "test mean absolute error = 103286.99931313131\n"
     ]
    }
   ],
   "source": [
    "knr = KNR()\n",
    "scores = cross_validate(knr, features, labels, return_train_score=True, scoring='neg_mean_absolute_error')\n",
    "\n",
    "print(f\"train mean absolute error = {-scores['train_score'].mean()}\")\n",
    "print(f\"test mean absolute error = {-scores['test_score'].mean()}\")"
   ]
  },
  {
   "cell_type": "code",
   "execution_count": 31,
   "metadata": {},
   "outputs": [
    {
     "name": "stdout",
     "output_type": "stream",
     "text": [
      "r² score = 0.8371431740319235\n",
      "rmse = 79475.8055868656\n",
      "mae = 48218.32914798206\n"
     ]
    }
   ],
   "source": [
    "# cross validation and model fitting\n",
    "\n",
    "knr.fit(features, labels)\n",
    "knr.score(features, labels)\n",
    "print(f'r² score = {knr.score(features, labels)}')\n",
    "print(f'rmse = {np.sqrt(mse(labels, knr.predict(features)))}')\n",
    "print(f'mae = {mae(labels, knr.predict(features))}')"
   ]
  },
  {
   "cell_type": "code",
   "execution_count": 32,
   "metadata": {},
   "outputs": [
    {
     "data": {
      "image/png": "[encoded data removed]",
      "text/plain": [
       "<Figure size 432x288 with 1 Axes>"
      ]
     },
     "metadata": {},
     "output_type": "display_data"
    }
   ],
   "source": [
    "plot_predictions_vs_actual(labels, knr.predict(features))\n",
    "plt.savefig('kneighbors.png')"
   ]
  },
  {
   "cell_type": "markdown",
   "metadata": {},
   "source": [
    "# Gradient Boosted Trees Regressor"
   ]
  },
  {
   "cell_type": "code",
   "execution_count": 33,
   "metadata": {},
   "outputs": [
    {
     "name": "stdout",
     "output_type": "stream",
     "text": [
      "train mean absolute error = 143.57676071809678\n",
      "test mean absolute error = 97001.22072285353\n"
     ]
    }
   ],
   "source": [
    "xgbr = XGBR()\n",
    "scores = cross_validate(xgbr, features, labels, return_train_score=True, scoring='neg_mean_absolute_error')\n",
    "\n",
    "print(f\"train mean absolute error = {-scores['train_score'].mean()}\")\n",
    "print(f\"test mean absolute error = {-scores['test_score'].mean()}\")"
   ]
  },
  {
   "cell_type": "code",
   "execution_count": 34,
   "metadata": {},
   "outputs": [
    {
     "name": "stdout",
     "output_type": "stream",
     "text": [
      "r² score = 0.9999964972265716\n",
      "rmse = 368.5852730704028\n",
      "mae = 269.6635369955157\n"
     ]
    }
   ],
   "source": [
    "# cross validation and model fitting\n",
    "\n",
    "xgbr.fit(features, labels)\n",
    "xgbr.score(features, labels)\n",
    "print(f'r² score = {xgbr.score(features, labels)}')\n",
    "print(f'rmse = {np.sqrt(mse(labels, xgbr.predict(features)))}')\n",
    "print(f'mae = {mae(labels, xgbr.predict(features))}')"
   ]
  },
  {
   "cell_type": "code",
   "execution_count": 35,
   "metadata": {},
   "outputs": [
    {
     "data": {
      "image/png": "[encoded data removed]",
      "text/plain": [
       "<Figure size 432x288 with 1 Axes>"
      ]
     },
     "metadata": {},
     "output_type": "display_data"
    }
   ],
   "source": [
    "plot_predictions_vs_actual(labels, xgbr.predict(features))\n",
    "plt.savefig('xgb.png')"
   ]
  },
  {
   "cell_type": "code",
   "execution_count": 36,
   "metadata": {},
   "outputs": [],
   "source": [
    "# save predictions on unlabeled data\n",
    "\n",
    "unlabeled_data_predictions = unlabeled_data.copy()\n",
    "unlabeled_data_predictions['ClosePrice'] = xgbr.predict(unlabeled_data.to_numpy())\n",
    "unlabeled_data_predictions.to_csv('unlabeled_data_predictions.csv', index=False)"
   ]
  },
  {
   "cell_type": "code",
   "execution_count": null,
   "metadata": {},
   "outputs": [],
   "source": []
  }
 ],
 "metadata": {
  "hide_input": false,
  "kernelspec": {
   "display_name": "Python 3",
   "language": "python",
   "name": "python3"
  },
  "language_info": {
   "codemirror_mode": {
    "name": "ipython",
    "version": 3
   },
   "file_extension": ".py",
   "mimetype": "text/x-python",
   "name": "python",
   "nbconvert_exporter": "python",
   "pygments_lexer": "ipython3",
   "version": "3.7.6"
  },
  "latex_envs": {
   "LaTeX_envs_menu_present": true,
   "autoclose": true,
   "autocomplete": true,
   "bibliofile": "biblio.bib",
   "cite_by": "apalike",
   "current_citInitial": 1,
   "eqLabelWithNumbers": true,
   "eqNumInitial": 1,
   "hotkeys": {
    "equation": "Ctrl-E",
    "itemize": "Ctrl-I"
   },
   "labels_anchors": false,
   "latex_user_defs": false,
   "report_style_numbering": false,
   "user_envs_cfg": false
  },
  "toc": {
   "base_numbering": 1,
   "nav_menu": {},
   "number_sections": true,
   "sideBar": true,
   "skip_h1_title": false,
   "title_cell": "Table of Contents",
   "title_sidebar": "Contents",
   "toc_cell": false,
   "toc_position": {},
   "toc_section_display": true,
   "toc_window_display": false
  },
  "varInspector": {
   "cols": {
    "lenName": 16,
    "lenType": 16,
    "lenVar": 40
   },
   "kernels_config": {
    "python": {
     "delete_cmd_postfix": "",
     "delete_cmd_prefix": "del ",
     "library": "var_list.py",
     "varRefreshCmd": "print(var_dic_list())"
    },
    "r": {
     "delete_cmd_postfix": ") ",
     "delete_cmd_prefix": "rm(",
     "library": "var_list.r",
     "varRefreshCmd": "cat(var_dic_list()) "
    }
   },
   "types_to_exclude": [
    "module",
    "function",
    "builtin_function_or_method",
    "instance",
    "_Feature"
   ],
   "window_display": false
  }
 },
 "nbformat": 4,
 "nbformat_minor": 5
}
